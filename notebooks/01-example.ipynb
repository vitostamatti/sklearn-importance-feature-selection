{
 "cells": [
  {
   "cell_type": "code",
   "execution_count": 1,
   "metadata": {},
   "outputs": [],
   "source": [
    "import numpy as np\n",
    "import pandas as pd\n",
    "\n",
    "from sklearn.datasets import fetch_openml, make_classification\n",
    "from sklearn.ensemble import RandomForestClassifier\n",
    "from sklearn.preprocessing import LabelEncoder\n",
    "from sklearn.model_selection import train_test_split\n",
    "from sklearn.model_selection import cross_validate\n",
    "\n",
    "from importance_feature_selector import ImportanceFeatureSelector\n",
    "\n",
    "# https://erdogant.github.io/distfit/pages/html/Parametric.html"
   ]
  },
  {
   "cell_type": "code",
   "execution_count": 2,
   "metadata": {},
   "outputs": [
    {
     "name": "stdout",
     "output_type": "stream",
     "text": [
      "\n",
      "All Features\n",
      "['f_0', 'f_1', 'f_2', 'f_3', 'f_4', 'f_5', 'f_6', 'f_7', 'f_8', 'f_9', 'f_10', 'f_11', 'f_12', 'f_13', 'f_14', 'f_15', 'f_16', 'f_17', 'f_18', 'f_19']\n",
      "fit_time 2.073451598485311\n",
      "score_time 0.051587581634521484\n",
      "test_accuracy 0.9249996385361392\n",
      "test_recall 0.9297990341907609\n",
      "test_precision 0.9209569241291509\n",
      "\n",
      "Reduced Features\n",
      "['f_1', 'f_5', 'f_6', 'f_13', 'f_14', 'f_15', 'f_19']\n",
      "fit_time 1.1111986637115479\n",
      "score_time 0.05002236366271973\n",
      "test_accuracy 0.9250996185401382\n",
      "test_recall 0.9225996337347177\n",
      "test_precision 0.9272358315436975\n"
     ]
    }
   ],
   "source": [
    "\n",
    "X, y = make_classification(n_samples=10000)\n",
    "\n",
    "X = pd.DataFrame(X, columns=[f'f_{i}' for i in range(X.shape[1])])\n",
    "\n",
    "fs = ImportanceFeatureSelector(\n",
    "    estimator=RandomForestClassifier(random_state=123),\n",
    "    norm=True,\n",
    "    rand=True, \n",
    "    exp=True, \n",
    "    choice=True, \n",
    "    binom=True,\n",
    "    cv=True\n",
    ")\n",
    "\n",
    "X_selected = fs.fit_transform(X, y)\n",
    "\n",
    "\n",
    "print(\"\\nAll Features\")\n",
    "print(X.columns.to_list())\n",
    "estimator = RandomForestClassifier(random_state=1234)\n",
    "cv = cross_validate(estimator,X, y, scoring=['accuracy','recall','precision'], cv=3)\n",
    "for k,v in cv.items():\n",
    "    print(k, np.mean(v))\n",
    "\n",
    "\n",
    "print(\"\\nReduced Features\")\n",
    "print(X_selected.columns.to_list())\n",
    "estimator = RandomForestClassifier(random_state=1234)\n",
    "cv = cross_validate(estimator,X_selected, y, scoring=['accuracy','recall','precision'], cv=3)\n",
    "for k,v in cv.items():\n",
    "    print(k, np.mean(v))"
   ]
  },
  {
   "cell_type": "code",
   "execution_count": null,
   "metadata": {},
   "outputs": [],
   "source": []
  }
 ],
 "metadata": {
  "kernelspec": {
   "display_name": "Python 3.8.5 ('venv': venv)",
   "language": "python",
   "name": "python3"
  },
  "language_info": {
   "codemirror_mode": {
    "name": "ipython",
    "version": 3
   },
   "file_extension": ".py",
   "mimetype": "text/x-python",
   "name": "python",
   "nbconvert_exporter": "python",
   "pygments_lexer": "ipython3",
   "version": "3.8.5"
  },
  "orig_nbformat": 4,
  "vscode": {
   "interpreter": {
    "hash": "56bed90fd766c8462f36e2e004824b62736b2e5361958c6f32eff0d419eb1f89"
   }
  }
 },
 "nbformat": 4,
 "nbformat_minor": 2
}
