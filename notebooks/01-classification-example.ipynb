{
 "cells": [
  {
   "cell_type": "code",
   "execution_count": 6,
   "metadata": {},
   "outputs": [],
   "source": [
    "from sklearn.datasets import fetch_openml, make_classification, make_regression\n",
    "from sklearn.preprocessing import OneHotEncoder, OrdinalEncoder\n",
    "from sklearn.pipeline import Pipeline, FeatureUnion, make_pipeline\n",
    "from sklearn.compose import ColumnTransformer\n",
    "from sklearn.preprocessing import StandardScaler, PowerTransformer\n",
    "import numpy as np\n",
    "import matplotlib.pyplot as plt\n",
    "import pandas as pd\n",
    "from sklearn.base import TransformerMixin, BaseEstimator\n",
    "from sklearn.utils import shuffle\n",
    "from sklearn.preprocessing import FunctionTransformer\n",
    "from sklearn.impute import SimpleImputer\n",
    "from sklearn.ensemble import RandomForestClassifier, RandomForestRegressor\n",
    "from sklearn.preprocessing import LabelEncoder\n",
    "from sklearn.model_selection import train_test_split\n",
    "from sklearn.model_selection import cross_validate\n",
    "from sklearn.metrics import accuracy_score\n",
    "# https://erdogant.github.io/distfit/pages/html/Parametric.html"
   ]
  },
  {
   "cell_type": "code",
   "execution_count": 7,
   "metadata": {},
   "outputs": [],
   "source": [
    "adult = fetch_openml('adult', version=2, as_frame=True)\n",
    "X = adult['data']\n",
    "y = adult['target']"
   ]
  },
  {
   "cell_type": "code",
   "execution_count": 8,
   "metadata": {},
   "outputs": [
    {
     "name": "stdout",
     "output_type": "stream",
     "text": [
      "<class 'pandas.core.frame.DataFrame'>\n",
      "RangeIndex: 48842 entries, 0 to 48841\n",
      "Data columns (total 14 columns):\n",
      " #   Column          Non-Null Count  Dtype   \n",
      "---  ------          --------------  -----   \n",
      " 0   age             48842 non-null  float64 \n",
      " 1   workclass       46043 non-null  category\n",
      " 2   fnlwgt          48842 non-null  float64 \n",
      " 3   education       48842 non-null  category\n",
      " 4   education-num   48842 non-null  float64 \n",
      " 5   marital-status  48842 non-null  category\n",
      " 6   occupation      46033 non-null  category\n",
      " 7   relationship    48842 non-null  category\n",
      " 8   race            48842 non-null  category\n",
      " 9   sex             48842 non-null  category\n",
      " 10  capital-gain    48842 non-null  float64 \n",
      " 11  capital-loss    48842 non-null  float64 \n",
      " 12  hours-per-week  48842 non-null  float64 \n",
      " 13  native-country  47985 non-null  category\n",
      "dtypes: category(8), float64(6)\n",
      "memory usage: 2.6 MB\n"
     ]
    }
   ],
   "source": [
    "X.info()"
   ]
  },
  {
   "cell_type": "code",
   "execution_count": 9,
   "metadata": {},
   "outputs": [],
   "source": [
    "X_train, X_test, y_train, y_test = train_test_split(X, y, test_size=0.1)"
   ]
  },
  {
   "cell_type": "code",
   "execution_count": 10,
   "metadata": {},
   "outputs": [],
   "source": [
    "num_features = X.select_dtypes(include='number').columns.to_list()\n",
    "cat_features = X.select_dtypes(exclude='number').columns.to_list()\n",
    "\n",
    "cardinalitites = [\n",
    "    X[f].nunique()\n",
    "    for f in cat_features\n",
    "]\n",
    "\n",
    "max_one_hot = 10\n",
    "oh_cat_features = [cat_features[i] for i,c in enumerate(cardinalitites) if c<=max_one_hot]\n",
    "ord_cat_features = [cat_features[i] for i,c in enumerate(cardinalitites) if c>max_one_hot]"
   ]
  },
  {
   "cell_type": "code",
   "execution_count": 11,
   "metadata": {},
   "outputs": [],
   "source": [
    "col_transformer = ColumnTransformer([\n",
    "    ('oh_cat_features',make_pipeline(\n",
    "        SimpleImputer(strategy='most_frequent'), \n",
    "        OneHotEncoder(sparse=False, handle_unknown='ignore')\n",
    "        ), \n",
    "        oh_cat_features\n",
    "    ),\n",
    "    ('ord_cat_features',make_pipeline(\n",
    "        SimpleImputer(strategy='most_frequent'), \n",
    "        OrdinalEncoder(handle_unknown='use_encoded_value', unknown_value=-1)\n",
    "        ), \n",
    "        ord_cat_features\n",
    "    ),\n",
    "    ('num_features', make_pipeline(SimpleImputer(strategy='median'), StandardScaler()), num_features),\n",
    "])\n",
    "\n",
    "fu_base = FeatureUnion([\n",
    "    (\n",
    "        'fu_col', \n",
    "        col_transformer\n",
    "    )\n",
    "])"
   ]
  },
  {
   "cell_type": "code",
   "execution_count": 12,
   "metadata": {},
   "outputs": [
    {
     "data": {
      "text/plain": [
       "{'fit_time': array([3.68102288, 3.57848597, 3.68420291, 3.73898888, 3.94108009]),\n",
       " 'score_time': array([0.2354629 , 0.21962595, 0.2497921 , 0.22560096, 0.28143907]),\n",
       " 'test_score': array([0.85589172, 0.85543676, 0.85212149, 0.85496531, 0.85451029]),\n",
       " 'train_score': array([0.99988625, 0.99991469, 0.99985782, 0.99994313, 0.99991469])}"
      ]
     },
     "execution_count": 12,
     "metadata": {},
     "output_type": "execute_result"
    }
   ],
   "source": [
    "# Baseline\n",
    "label_encoder = LabelEncoder()\n",
    "y_train = label_encoder.fit_transform(y_train)\n",
    "rf_base = make_pipeline(\n",
    "    fu_base,\n",
    "    RandomForestClassifier()\n",
    ") \n",
    "cross_validate(rf_base, X_train, y_train, scoring='accuracy', cv=5, return_train_score=True)"
   ]
  },
  {
   "cell_type": "code",
   "execution_count": 13,
   "metadata": {},
   "outputs": [
    {
     "data": {
      "text/html": [
       "<style>#sk-container-id-1 {color: black;background-color: white;}#sk-container-id-1 pre{padding: 0;}#sk-container-id-1 div.sk-toggleable {background-color: white;}#sk-container-id-1 label.sk-toggleable__label {cursor: pointer;display: block;width: 100%;margin-bottom: 0;padding: 0.3em;box-sizing: border-box;text-align: center;}#sk-container-id-1 label.sk-toggleable__label-arrow:before {content: \"▸\";float: left;margin-right: 0.25em;color: #696969;}#sk-container-id-1 label.sk-toggleable__label-arrow:hover:before {color: black;}#sk-container-id-1 div.sk-estimator:hover label.sk-toggleable__label-arrow:before {color: black;}#sk-container-id-1 div.sk-toggleable__content {max-height: 0;max-width: 0;overflow: hidden;text-align: left;background-color: #f0f8ff;}#sk-container-id-1 div.sk-toggleable__content pre {margin: 0.2em;color: black;border-radius: 0.25em;background-color: #f0f8ff;}#sk-container-id-1 input.sk-toggleable__control:checked~div.sk-toggleable__content {max-height: 200px;max-width: 100%;overflow: auto;}#sk-container-id-1 input.sk-toggleable__control:checked~label.sk-toggleable__label-arrow:before {content: \"▾\";}#sk-container-id-1 div.sk-estimator input.sk-toggleable__control:checked~label.sk-toggleable__label {background-color: #d4ebff;}#sk-container-id-1 div.sk-label input.sk-toggleable__control:checked~label.sk-toggleable__label {background-color: #d4ebff;}#sk-container-id-1 input.sk-hidden--visually {border: 0;clip: rect(1px 1px 1px 1px);clip: rect(1px, 1px, 1px, 1px);height: 1px;margin: -1px;overflow: hidden;padding: 0;position: absolute;width: 1px;}#sk-container-id-1 div.sk-estimator {font-family: monospace;background-color: #f0f8ff;border: 1px dotted black;border-radius: 0.25em;box-sizing: border-box;margin-bottom: 0.5em;}#sk-container-id-1 div.sk-estimator:hover {background-color: #d4ebff;}#sk-container-id-1 div.sk-parallel-item::after {content: \"\";width: 100%;border-bottom: 1px solid gray;flex-grow: 1;}#sk-container-id-1 div.sk-label:hover label.sk-toggleable__label {background-color: #d4ebff;}#sk-container-id-1 div.sk-serial::before {content: \"\";position: absolute;border-left: 1px solid gray;box-sizing: border-box;top: 0;bottom: 0;left: 50%;z-index: 0;}#sk-container-id-1 div.sk-serial {display: flex;flex-direction: column;align-items: center;background-color: white;padding-right: 0.2em;padding-left: 0.2em;position: relative;}#sk-container-id-1 div.sk-item {position: relative;z-index: 1;}#sk-container-id-1 div.sk-parallel {display: flex;align-items: stretch;justify-content: center;background-color: white;position: relative;}#sk-container-id-1 div.sk-item::before, #sk-container-id-1 div.sk-parallel-item::before {content: \"\";position: absolute;border-left: 1px solid gray;box-sizing: border-box;top: 0;bottom: 0;left: 50%;z-index: -1;}#sk-container-id-1 div.sk-parallel-item {display: flex;flex-direction: column;z-index: 1;position: relative;background-color: white;}#sk-container-id-1 div.sk-parallel-item:first-child::after {align-self: flex-end;width: 50%;}#sk-container-id-1 div.sk-parallel-item:last-child::after {align-self: flex-start;width: 50%;}#sk-container-id-1 div.sk-parallel-item:only-child::after {width: 0;}#sk-container-id-1 div.sk-dashed-wrapped {border: 1px dashed gray;margin: 0 0.4em 0.5em 0.4em;box-sizing: border-box;padding-bottom: 0.4em;background-color: white;}#sk-container-id-1 div.sk-label label {font-family: monospace;font-weight: bold;display: inline-block;line-height: 1.2em;}#sk-container-id-1 div.sk-label-container {text-align: center;}#sk-container-id-1 div.sk-container {/* jupyter's `normalize.less` sets `[hidden] { display: none; }` but bootstrap.min.css set `[hidden] { display: none !important; }` so we also need the `!important` here to be able to override the default hidden behavior on the sphinx rendered scikit-learn.org. See: https://github.com/scikit-learn/scikit-learn/issues/21755 */display: inline-block !important;position: relative;}#sk-container-id-1 div.sk-text-repr-fallback {display: none;}</style><div id=\"sk-container-id-1\" class=\"sk-top-container\"><div class=\"sk-text-repr-fallback\"><pre>Pipeline(steps=[(&#x27;featureunion&#x27;,\n",
       "                 FeatureUnion(transformer_list=[(&#x27;fu_col&#x27;,\n",
       "                                                 ColumnTransformer(transformers=[(&#x27;oh_cat_features&#x27;,\n",
       "                                                                                  Pipeline(steps=[(&#x27;simpleimputer&#x27;,\n",
       "                                                                                                   SimpleImputer(strategy=&#x27;most_frequent&#x27;)),\n",
       "                                                                                                  (&#x27;onehotencoder&#x27;,\n",
       "                                                                                                   OneHotEncoder(handle_unknown=&#x27;ignore&#x27;,\n",
       "                                                                                                                 sparse=False))]),\n",
       "                                                                                  [&#x27;workclass&#x27;,\n",
       "                                                                                   &#x27;marital-status&#x27;,\n",
       "                                                                                   &#x27;relationship&#x27;,\n",
       "                                                                                   &#x27;race&#x27;,\n",
       "                                                                                   &#x27;sex&#x27;]),\n",
       "                                                                                 (&#x27;ord_cat_features&#x27;,...\n",
       "                                                                                                   OrdinalEncoder(handle_unknown=&#x27;use_encoded_value&#x27;,\n",
       "                                                                                                                  unknown_value=-1))]),\n",
       "                                                                                  [&#x27;education&#x27;,\n",
       "                                                                                   &#x27;occupation&#x27;,\n",
       "                                                                                   &#x27;native-country&#x27;]),\n",
       "                                                                                 (&#x27;num_features&#x27;,\n",
       "                                                                                  Pipeline(steps=[(&#x27;simpleimputer&#x27;,\n",
       "                                                                                                   SimpleImputer(strategy=&#x27;median&#x27;)),\n",
       "                                                                                                  (&#x27;standardscaler&#x27;,\n",
       "                                                                                                   StandardScaler())]),\n",
       "                                                                                  [&#x27;age&#x27;,\n",
       "                                                                                   &#x27;fnlwgt&#x27;,\n",
       "                                                                                   &#x27;education-num&#x27;,\n",
       "                                                                                   &#x27;capital-gain&#x27;,\n",
       "                                                                                   &#x27;capital-loss&#x27;,\n",
       "                                                                                   &#x27;hours-per-week&#x27;])]))])),\n",
       "                (&#x27;randomforestclassifier&#x27;, RandomForestClassifier())])</pre><b>In a Jupyter environment, please rerun this cell to show the HTML representation or trust the notebook. <br />On GitHub, the HTML representation is unable to render, please try loading this page with nbviewer.org.</b></div><div class=\"sk-container\" hidden><div class=\"sk-item sk-dashed-wrapped\"><div class=\"sk-label-container\"><div class=\"sk-label sk-toggleable\"><input class=\"sk-toggleable__control sk-hidden--visually\" id=\"sk-estimator-id-1\" type=\"checkbox\" ><label for=\"sk-estimator-id-1\" class=\"sk-toggleable__label sk-toggleable__label-arrow\">Pipeline</label><div class=\"sk-toggleable__content\"><pre>Pipeline(steps=[(&#x27;featureunion&#x27;,\n",
       "                 FeatureUnion(transformer_list=[(&#x27;fu_col&#x27;,\n",
       "                                                 ColumnTransformer(transformers=[(&#x27;oh_cat_features&#x27;,\n",
       "                                                                                  Pipeline(steps=[(&#x27;simpleimputer&#x27;,\n",
       "                                                                                                   SimpleImputer(strategy=&#x27;most_frequent&#x27;)),\n",
       "                                                                                                  (&#x27;onehotencoder&#x27;,\n",
       "                                                                                                   OneHotEncoder(handle_unknown=&#x27;ignore&#x27;,\n",
       "                                                                                                                 sparse=False))]),\n",
       "                                                                                  [&#x27;workclass&#x27;,\n",
       "                                                                                   &#x27;marital-status&#x27;,\n",
       "                                                                                   &#x27;relationship&#x27;,\n",
       "                                                                                   &#x27;race&#x27;,\n",
       "                                                                                   &#x27;sex&#x27;]),\n",
       "                                                                                 (&#x27;ord_cat_features&#x27;,...\n",
       "                                                                                                   OrdinalEncoder(handle_unknown=&#x27;use_encoded_value&#x27;,\n",
       "                                                                                                                  unknown_value=-1))]),\n",
       "                                                                                  [&#x27;education&#x27;,\n",
       "                                                                                   &#x27;occupation&#x27;,\n",
       "                                                                                   &#x27;native-country&#x27;]),\n",
       "                                                                                 (&#x27;num_features&#x27;,\n",
       "                                                                                  Pipeline(steps=[(&#x27;simpleimputer&#x27;,\n",
       "                                                                                                   SimpleImputer(strategy=&#x27;median&#x27;)),\n",
       "                                                                                                  (&#x27;standardscaler&#x27;,\n",
       "                                                                                                   StandardScaler())]),\n",
       "                                                                                  [&#x27;age&#x27;,\n",
       "                                                                                   &#x27;fnlwgt&#x27;,\n",
       "                                                                                   &#x27;education-num&#x27;,\n",
       "                                                                                   &#x27;capital-gain&#x27;,\n",
       "                                                                                   &#x27;capital-loss&#x27;,\n",
       "                                                                                   &#x27;hours-per-week&#x27;])]))])),\n",
       "                (&#x27;randomforestclassifier&#x27;, RandomForestClassifier())])</pre></div></div></div><div class=\"sk-serial\"><div class=\"sk-item sk-dashed-wrapped\"><div class=\"sk-label-container\"><div class=\"sk-label sk-toggleable\"><input class=\"sk-toggleable__control sk-hidden--visually\" id=\"sk-estimator-id-2\" type=\"checkbox\" ><label for=\"sk-estimator-id-2\" class=\"sk-toggleable__label sk-toggleable__label-arrow\">featureunion: FeatureUnion</label><div class=\"sk-toggleable__content\"><pre>FeatureUnion(transformer_list=[(&#x27;fu_col&#x27;,\n",
       "                                ColumnTransformer(transformers=[(&#x27;oh_cat_features&#x27;,\n",
       "                                                                 Pipeline(steps=[(&#x27;simpleimputer&#x27;,\n",
       "                                                                                  SimpleImputer(strategy=&#x27;most_frequent&#x27;)),\n",
       "                                                                                 (&#x27;onehotencoder&#x27;,\n",
       "                                                                                  OneHotEncoder(handle_unknown=&#x27;ignore&#x27;,\n",
       "                                                                                                sparse=False))]),\n",
       "                                                                 [&#x27;workclass&#x27;,\n",
       "                                                                  &#x27;marital-status&#x27;,\n",
       "                                                                  &#x27;relationship&#x27;,\n",
       "                                                                  &#x27;race&#x27;,\n",
       "                                                                  &#x27;sex&#x27;]),\n",
       "                                                                (&#x27;ord_cat_features&#x27;,\n",
       "                                                                 Pipeline(steps=[(&#x27;simpleimputer&#x27;,\n",
       "                                                                                  SimpleImputer(strategy=&#x27;most_frequent&#x27;)),\n",
       "                                                                                 (&#x27;ordinalencoder&#x27;,\n",
       "                                                                                  OrdinalEncoder(handle_unknown=&#x27;use_encoded_value&#x27;,\n",
       "                                                                                                 unknown_value=-1))]),\n",
       "                                                                 [&#x27;education&#x27;,\n",
       "                                                                  &#x27;occupation&#x27;,\n",
       "                                                                  &#x27;native-country&#x27;]),\n",
       "                                                                (&#x27;num_features&#x27;,\n",
       "                                                                 Pipeline(steps=[(&#x27;simpleimputer&#x27;,\n",
       "                                                                                  SimpleImputer(strategy=&#x27;median&#x27;)),\n",
       "                                                                                 (&#x27;standardscaler&#x27;,\n",
       "                                                                                  StandardScaler())]),\n",
       "                                                                 [&#x27;age&#x27;,\n",
       "                                                                  &#x27;fnlwgt&#x27;,\n",
       "                                                                  &#x27;education-num&#x27;,\n",
       "                                                                  &#x27;capital-gain&#x27;,\n",
       "                                                                  &#x27;capital-loss&#x27;,\n",
       "                                                                  &#x27;hours-per-week&#x27;])]))])</pre></div></div></div><div class=\"sk-parallel\"><div class=\"sk-parallel-item\"><div class=\"sk-item\"><div class=\"sk-label-container\"><div class=\"sk-label sk-toggleable\"><label>fu_col</label></div></div><div class=\"sk-serial\"><div class=\"sk-item sk-dashed-wrapped\"><div class=\"sk-parallel\"><div class=\"sk-parallel-item\"><div class=\"sk-item\"><div class=\"sk-label-container\"><div class=\"sk-label sk-toggleable\"><input class=\"sk-toggleable__control sk-hidden--visually\" id=\"sk-estimator-id-3\" type=\"checkbox\" ><label for=\"sk-estimator-id-3\" class=\"sk-toggleable__label sk-toggleable__label-arrow\">oh_cat_features</label><div class=\"sk-toggleable__content\"><pre>[&#x27;workclass&#x27;, &#x27;marital-status&#x27;, &#x27;relationship&#x27;, &#x27;race&#x27;, &#x27;sex&#x27;]</pre></div></div></div><div class=\"sk-serial\"><div class=\"sk-item\"><div class=\"sk-serial\"><div class=\"sk-item\"><div class=\"sk-estimator sk-toggleable\"><input class=\"sk-toggleable__control sk-hidden--visually\" id=\"sk-estimator-id-4\" type=\"checkbox\" ><label for=\"sk-estimator-id-4\" class=\"sk-toggleable__label sk-toggleable__label-arrow\">SimpleImputer</label><div class=\"sk-toggleable__content\"><pre>SimpleImputer(strategy=&#x27;most_frequent&#x27;)</pre></div></div></div><div class=\"sk-item\"><div class=\"sk-estimator sk-toggleable\"><input class=\"sk-toggleable__control sk-hidden--visually\" id=\"sk-estimator-id-5\" type=\"checkbox\" ><label for=\"sk-estimator-id-5\" class=\"sk-toggleable__label sk-toggleable__label-arrow\">OneHotEncoder</label><div class=\"sk-toggleable__content\"><pre>OneHotEncoder(handle_unknown=&#x27;ignore&#x27;, sparse=False)</pre></div></div></div></div></div></div></div></div><div class=\"sk-parallel-item\"><div class=\"sk-item\"><div class=\"sk-label-container\"><div class=\"sk-label sk-toggleable\"><input class=\"sk-toggleable__control sk-hidden--visually\" id=\"sk-estimator-id-6\" type=\"checkbox\" ><label for=\"sk-estimator-id-6\" class=\"sk-toggleable__label sk-toggleable__label-arrow\">ord_cat_features</label><div class=\"sk-toggleable__content\"><pre>[&#x27;education&#x27;, &#x27;occupation&#x27;, &#x27;native-country&#x27;]</pre></div></div></div><div class=\"sk-serial\"><div class=\"sk-item\"><div class=\"sk-serial\"><div class=\"sk-item\"><div class=\"sk-estimator sk-toggleable\"><input class=\"sk-toggleable__control sk-hidden--visually\" id=\"sk-estimator-id-7\" type=\"checkbox\" ><label for=\"sk-estimator-id-7\" class=\"sk-toggleable__label sk-toggleable__label-arrow\">SimpleImputer</label><div class=\"sk-toggleable__content\"><pre>SimpleImputer(strategy=&#x27;most_frequent&#x27;)</pre></div></div></div><div class=\"sk-item\"><div class=\"sk-estimator sk-toggleable\"><input class=\"sk-toggleable__control sk-hidden--visually\" id=\"sk-estimator-id-8\" type=\"checkbox\" ><label for=\"sk-estimator-id-8\" class=\"sk-toggleable__label sk-toggleable__label-arrow\">OrdinalEncoder</label><div class=\"sk-toggleable__content\"><pre>OrdinalEncoder(handle_unknown=&#x27;use_encoded_value&#x27;, unknown_value=-1)</pre></div></div></div></div></div></div></div></div><div class=\"sk-parallel-item\"><div class=\"sk-item\"><div class=\"sk-label-container\"><div class=\"sk-label sk-toggleable\"><input class=\"sk-toggleable__control sk-hidden--visually\" id=\"sk-estimator-id-9\" type=\"checkbox\" ><label for=\"sk-estimator-id-9\" class=\"sk-toggleable__label sk-toggleable__label-arrow\">num_features</label><div class=\"sk-toggleable__content\"><pre>[&#x27;age&#x27;, &#x27;fnlwgt&#x27;, &#x27;education-num&#x27;, &#x27;capital-gain&#x27;, &#x27;capital-loss&#x27;, &#x27;hours-per-week&#x27;]</pre></div></div></div><div class=\"sk-serial\"><div class=\"sk-item\"><div class=\"sk-serial\"><div class=\"sk-item\"><div class=\"sk-estimator sk-toggleable\"><input class=\"sk-toggleable__control sk-hidden--visually\" id=\"sk-estimator-id-10\" type=\"checkbox\" ><label for=\"sk-estimator-id-10\" class=\"sk-toggleable__label sk-toggleable__label-arrow\">SimpleImputer</label><div class=\"sk-toggleable__content\"><pre>SimpleImputer(strategy=&#x27;median&#x27;)</pre></div></div></div><div class=\"sk-item\"><div class=\"sk-estimator sk-toggleable\"><input class=\"sk-toggleable__control sk-hidden--visually\" id=\"sk-estimator-id-11\" type=\"checkbox\" ><label for=\"sk-estimator-id-11\" class=\"sk-toggleable__label sk-toggleable__label-arrow\">StandardScaler</label><div class=\"sk-toggleable__content\"><pre>StandardScaler()</pre></div></div></div></div></div></div></div></div></div></div></div></div></div></div></div><div class=\"sk-item\"><div class=\"sk-estimator sk-toggleable\"><input class=\"sk-toggleable__control sk-hidden--visually\" id=\"sk-estimator-id-12\" type=\"checkbox\" ><label for=\"sk-estimator-id-12\" class=\"sk-toggleable__label sk-toggleable__label-arrow\">RandomForestClassifier</label><div class=\"sk-toggleable__content\"><pre>RandomForestClassifier()</pre></div></div></div></div></div></div></div>"
      ],
      "text/plain": [
       "Pipeline(steps=[('featureunion',\n",
       "                 FeatureUnion(transformer_list=[('fu_col',\n",
       "                                                 ColumnTransformer(transformers=[('oh_cat_features',\n",
       "                                                                                  Pipeline(steps=[('simpleimputer',\n",
       "                                                                                                   SimpleImputer(strategy='most_frequent')),\n",
       "                                                                                                  ('onehotencoder',\n",
       "                                                                                                   OneHotEncoder(handle_unknown='ignore',\n",
       "                                                                                                                 sparse=False))]),\n",
       "                                                                                  ['workclass',\n",
       "                                                                                   'marital-status',\n",
       "                                                                                   'relationship',\n",
       "                                                                                   'race',\n",
       "                                                                                   'sex']),\n",
       "                                                                                 ('ord_cat_features',...\n",
       "                                                                                                   OrdinalEncoder(handle_unknown='use_encoded_value',\n",
       "                                                                                                                  unknown_value=-1))]),\n",
       "                                                                                  ['education',\n",
       "                                                                                   'occupation',\n",
       "                                                                                   'native-country']),\n",
       "                                                                                 ('num_features',\n",
       "                                                                                  Pipeline(steps=[('simpleimputer',\n",
       "                                                                                                   SimpleImputer(strategy='median')),\n",
       "                                                                                                  ('standardscaler',\n",
       "                                                                                                   StandardScaler())]),\n",
       "                                                                                  ['age',\n",
       "                                                                                   'fnlwgt',\n",
       "                                                                                   'education-num',\n",
       "                                                                                   'capital-gain',\n",
       "                                                                                   'capital-loss',\n",
       "                                                                                   'hours-per-week'])]))])),\n",
       "                ('randomforestclassifier', RandomForestClassifier())])"
      ]
     },
     "execution_count": 13,
     "metadata": {},
     "output_type": "execute_result"
    }
   ],
   "source": [
    "rf_base.fit(X_train, y_train)"
   ]
  },
  {
   "cell_type": "code",
   "execution_count": 15,
   "metadata": {},
   "outputs": [
    {
     "data": {
      "text/plain": [
       "0.8667349027635619"
      ]
     },
     "execution_count": 15,
     "metadata": {},
     "output_type": "execute_result"
    }
   ],
   "source": [
    "y_pred = rf_base.predict(X_test)\n",
    "y_test = label_encoder.transform(y_test)\n",
    "accuracy_score(y_test, y_pred)"
   ]
  },
  {
   "cell_type": "code",
   "execution_count": 16,
   "metadata": {},
   "outputs": [
    {
     "data": {
      "text/plain": [
       "<AxesSubplot:>"
      ]
     },
     "execution_count": 16,
     "metadata": {},
     "output_type": "execute_result"
    },
    {
     "data": {
      "image/png": "[encoded data removed]",
      "text/plain": [
       "<Figure size 432x288 with 1 Axes>"
      ]
     },
     "metadata": {
      "needs_background": "light"
     },
     "output_type": "display_data"
    }
   ],
   "source": [
    "feature_importances = pd.DataFrame(\n",
    "    rf_base.steps[-1][1].feature_importances_,\n",
    "    index=rf_base[:-1].get_feature_names_out(),\n",
    "    columns=['feature_importance']\n",
    ").sort_values('feature_importance', ascending=False)\n",
    "feature_importances.sort_values('feature_importance')[-15:].plot(kind='barh')\n"
   ]
  },
  {
   "cell_type": "code",
   "execution_count": 211,
   "metadata": {},
   "outputs": [
    {
     "data": {
      "text/plain": [
       "['x_norm', 'x_binom']"
      ]
     },
     "execution_count": 211,
     "metadata": {},
     "output_type": "execute_result"
    }
   ],
   "source": [
    "# Feature Selection\n",
    "train_size = X_train.shape[0]\n",
    "\n",
    "# Generate random features\n",
    "x_norm = pd.DataFrame(np.random.normal(size=(train_size,1)), columns=['x_norm']) \n",
    "# x_rand = pd.DataFrame(np.random.random(size=(train_size,1)), columns=['x_rand'])\n",
    "# x_exp = pd.DataFrame(np.random.exponential(size=(train_size,1)), columns=['x_exp'])\n",
    "# x_choice = pd.DataFrame(np.random.choice([i for i in range(10)], size=(train_size,1)), columns=['x_choice'])\n",
    "x_binom = pd.DataFrame(np.random.binomial(n=1, p=0.7, size=(train_size,1))  , columns=['x_binom'])\n",
    "\n",
    "X_random = pd.concat([\n",
    "    x_norm,\n",
    "    # x_rand,\n",
    "    # x_exp,\n",
    "    # x_choice,\n",
    "    x_binom\n",
    "    ], axis=1)\n",
    "\n",
    "random_features = X_random.columns.to_list()"
   ]
  },
  {
   "cell_type": "code",
   "execution_count": 89,
   "metadata": {},
   "outputs": [],
   "source": [
    "# Optionally\n",
    "# shuffled_features = X.columns.to_list()[:2]\n",
    "\n",
    "# shuffled_num_features = X[shuffled_features].select_dtypes(include='number').columns.to_list()\n",
    "# shuffled_cat_features = X[shuffled_features].select_dtypes(exclude='number').columns.to_list()\n",
    "\n",
    "# shuffled_cardinalitites = [\n",
    "#     X[f].nunique()\n",
    "#     for f in cat_features\n",
    "# ]\n",
    "# shuffled_oh_cat_features = [cat_features[i] for i,c in enumerate(cardinalitites) if c<=max_one_hot]\n",
    "# shuffled_ord_cat_features = [cat_features[i] for i,c in enumerate(cardinalitites) if c>max_one_hot]\n"
   ]
  },
  {
   "cell_type": "code",
   "execution_count": 284,
   "metadata": {},
   "outputs": [
    {
     "data": {
      "text/html": [
       "<div>\n",
       "<style scoped>\n",
       "    .dataframe tbody tr th:only-of-type {\n",
       "        vertical-align: middle;\n",
       "    }\n",
       "\n",
       "    .dataframe tbody tr th {\n",
       "        vertical-align: top;\n",
       "    }\n",
       "\n",
       "    .dataframe thead th {\n",
       "        text-align: right;\n",
       "    }\n",
       "</style>\n",
       "<table border=\"1\" class=\"dataframe\">\n",
       "  <thead>\n",
       "    <tr style=\"text-align: right;\">\n",
       "      <th></th>\n",
       "      <th>age</th>\n",
       "      <th>workclass</th>\n",
       "      <th>fnlwgt</th>\n",
       "      <th>education</th>\n",
       "      <th>education-num</th>\n",
       "      <th>marital-status</th>\n",
       "      <th>occupation</th>\n",
       "      <th>relationship</th>\n",
       "      <th>race</th>\n",
       "      <th>sex</th>\n",
       "      <th>capitalgain</th>\n",
       "      <th>capitalloss</th>\n",
       "      <th>hoursperweek</th>\n",
       "      <th>native-country</th>\n",
       "      <th>x_norm</th>\n",
       "      <th>x_binom</th>\n",
       "    </tr>\n",
       "  </thead>\n",
       "  <tbody>\n",
       "    <tr>\n",
       "      <th>0</th>\n",
       "      <td>0</td>\n",
       "      <td>NaN</td>\n",
       "      <td>80564.0</td>\n",
       "      <td>HS-grad</td>\n",
       "      <td>9.0</td>\n",
       "      <td>Never-married</td>\n",
       "      <td>NaN</td>\n",
       "      <td>Own-child</td>\n",
       "      <td>White</td>\n",
       "      <td>Male</td>\n",
       "      <td>0</td>\n",
       "      <td>0</td>\n",
       "      <td>3</td>\n",
       "      <td>United-States</td>\n",
       "      <td>2.626486</td>\n",
       "      <td>1</td>\n",
       "    </tr>\n",
       "    <tr>\n",
       "      <th>1</th>\n",
       "      <td>3</td>\n",
       "      <td>State-gov</td>\n",
       "      <td>254285.0</td>\n",
       "      <td>Doctorate</td>\n",
       "      <td>16.0</td>\n",
       "      <td>Married-civ-spouse</td>\n",
       "      <td>Prof-specialty</td>\n",
       "      <td>Husband</td>\n",
       "      <td>White</td>\n",
       "      <td>Male</td>\n",
       "      <td>0</td>\n",
       "      <td>2</td>\n",
       "      <td>4</td>\n",
       "      <td>Germany</td>\n",
       "      <td>1.240100</td>\n",
       "      <td>1</td>\n",
       "    </tr>\n",
       "    <tr>\n",
       "      <th>2</th>\n",
       "      <td>4</td>\n",
       "      <td>Private</td>\n",
       "      <td>107196.0</td>\n",
       "      <td>HS-grad</td>\n",
       "      <td>9.0</td>\n",
       "      <td>Widowed</td>\n",
       "      <td>Tech-support</td>\n",
       "      <td>Not-in-family</td>\n",
       "      <td>White</td>\n",
       "      <td>Female</td>\n",
       "      <td>0</td>\n",
       "      <td>0</td>\n",
       "      <td>0</td>\n",
       "      <td>United-States</td>\n",
       "      <td>0.129020</td>\n",
       "      <td>1</td>\n",
       "    </tr>\n",
       "    <tr>\n",
       "      <th>3</th>\n",
       "      <td>3</td>\n",
       "      <td>Private</td>\n",
       "      <td>135525.0</td>\n",
       "      <td>Some-college</td>\n",
       "      <td>10.0</td>\n",
       "      <td>Widowed</td>\n",
       "      <td>Adm-clerical</td>\n",
       "      <td>Unmarried</td>\n",
       "      <td>White</td>\n",
       "      <td>Female</td>\n",
       "      <td>0</td>\n",
       "      <td>0</td>\n",
       "      <td>2</td>\n",
       "      <td>United-States</td>\n",
       "      <td>0.792893</td>\n",
       "      <td>1</td>\n",
       "    </tr>\n",
       "    <tr>\n",
       "      <th>4</th>\n",
       "      <td>1</td>\n",
       "      <td>Private</td>\n",
       "      <td>188900.0</td>\n",
       "      <td>Bachelors</td>\n",
       "      <td>13.0</td>\n",
       "      <td>Married-civ-spouse</td>\n",
       "      <td>Exec-managerial</td>\n",
       "      <td>Wife</td>\n",
       "      <td>White</td>\n",
       "      <td>Female</td>\n",
       "      <td>0</td>\n",
       "      <td>0</td>\n",
       "      <td>2</td>\n",
       "      <td>United-States</td>\n",
       "      <td>0.795255</td>\n",
       "      <td>0</td>\n",
       "    </tr>\n",
       "  </tbody>\n",
       "</table>\n",
       "</div>"
      ],
      "text/plain": [
       "  age  workclass    fnlwgt     education  education-num      marital-status  \\\n",
       "0   0        NaN   80564.0       HS-grad            9.0       Never-married   \n",
       "1   3  State-gov  254285.0     Doctorate           16.0  Married-civ-spouse   \n",
       "2   4    Private  107196.0       HS-grad            9.0             Widowed   \n",
       "3   3    Private  135525.0  Some-college           10.0             Widowed   \n",
       "4   1    Private  188900.0     Bachelors           13.0  Married-civ-spouse   \n",
       "\n",
       "        occupation   relationship   race     sex capitalgain capitalloss  \\\n",
       "0              NaN      Own-child  White    Male           0           0   \n",
       "1   Prof-specialty        Husband  White    Male           0           2   \n",
       "2     Tech-support  Not-in-family  White  Female           0           0   \n",
       "3     Adm-clerical      Unmarried  White  Female           0           0   \n",
       "4  Exec-managerial           Wife  White  Female           0           0   \n",
       "\n",
       "  hoursperweek native-country    x_norm  x_binom  \n",
       "0            3  United-States  2.626486        1  \n",
       "1            4        Germany  1.240100        1  \n",
       "2            0  United-States  0.129020        1  \n",
       "3            2  United-States  0.792893        1  \n",
       "4            2  United-States  0.795255        0  "
      ]
     },
     "execution_count": 284,
     "metadata": {},
     "output_type": "execute_result"
    }
   ],
   "source": [
    "X_train_noise= pd.concat([\n",
    "    X_train.reset_index(drop=True),\n",
    "    X_random.reset_index(drop=True)\n",
    "], axis=1)\n",
    "\n",
    "X_train_noise.head()"
   ]
  },
  {
   "cell_type": "code",
   "execution_count": 223,
   "metadata": {},
   "outputs": [],
   "source": [
    "random_col_transformer = ColumnTransformer([\n",
    "    ('random_features', 'passthrough', random_features)  \n",
    "])\n",
    "\n",
    "fu_noise = FeatureUnion([\n",
    "    (\n",
    "        'fu_col', \n",
    "        col_transformer\n",
    "    ),\n",
    "    (\n",
    "        'fu_random_col',\n",
    "        random_col_transformer\n",
    "    ),\n",
    "])"
   ]
  },
  {
   "cell_type": "code",
   "execution_count": 226,
   "metadata": {},
   "outputs": [
    {
     "data": {
      "text/plain": [
       "{'fit_time': array([5.87110233, 6.58772349, 6.37880182, 6.10738325, 6.38547826]),\n",
       " 'score_time': array([0.4573431 , 0.36175871, 0.36037731, 0.40248442, 0.39103413]),\n",
       " 'test_score': array([0.84883985, 0.84235669, 0.84256626, 0.84734387, 0.8441588 ]),\n",
       " 'train_score': array([1.        , 0.99994313, 1.        , 0.99997156, 1.        ])}"
      ]
     },
     "execution_count": 226,
     "metadata": {},
     "output_type": "execute_result"
    }
   ],
   "source": [
    "rf_noise = make_pipeline(\n",
    "    fu_noise,\n",
    "    RandomForestClassifier()\n",
    ") \n",
    "cross_validate(rf_noise, X_train_noise, y_train, scoring='accuracy', cv=5, return_train_score=True)"
   ]
  },
  {
   "cell_type": "code",
   "execution_count": 295,
   "metadata": {},
   "outputs": [
    {
     "name": "stdout",
     "output_type": "stream",
     "text": [
      "TRAIN: [ 8792  8793  8794 ... 43954 43955 43956] TEST: [   0    1    2 ... 8789 8790 8791]\n",
      "TRAIN: [    0     1     2 ... 43954 43955 43956] TEST: [ 8792  8793  8794 ... 17581 17582 17583]\n",
      "TRAIN: [    0     1     2 ... 43954 43955 43956] TEST: [17584 17585 17586 ... 26372 26373 26374]\n",
      "TRAIN: [    0     1     2 ... 43954 43955 43956] TEST: [26375 26376 26377 ... 35163 35164 35165]\n",
      "TRAIN: [    0     1     2 ... 35163 35164 35165] TEST: [35166 35167 35168 ... 43954 43955 43956]\n"
     ]
    }
   ],
   "source": [
    "from sklearn.model_selection import KFold\n",
    "from sklearn.base import clone\n",
    "\n",
    "rf_noise = make_pipeline(\n",
    "    fu_noise,\n",
    "    RandomForestClassifier()\n",
    ") \n",
    "\n",
    "def compute_cv_feature_importances(pipeline, X, y, n_splits=5):\n",
    "    kf = KFold(n_splits=n_splits)\n",
    "\n",
    "    feature_importances = []\n",
    "\n",
    "    for train_index, test_index in kf.split(X):\n",
    "\n",
    "        X_train, X_test = X.iloc[train_index], X.iloc[test_index]\n",
    "        y_train, y_test = y.iloc[train_index], y.iloc[test_index]\n",
    "\n",
    "        pipeline_ = clone(pipeline)\n",
    "\n",
    "        pipeline_.fit(X_train, y_train)\n",
    "\n",
    "        feature_importances.append(\n",
    "            pipeline_.steps[-1][1].feature_importances_\n",
    "        )\n",
    "      \n",
    "    return  feature_importances\n",
    "        \n",
    "feature_importances = compute_cv_feature_importances(rf_noise, X_train_noise, y_train)"
   ]
  },
  {
   "cell_type": "code",
   "execution_count": 299,
   "metadata": {},
   "outputs": [
    {
     "data": {
      "text/plain": [
       "0.8374616171954964"
      ]
     },
     "execution_count": 299,
     "metadata": {},
     "output_type": "execute_result"
    }
   ],
   "source": [
    "test_size = X_test.shape[0]\n",
    "\n",
    "x_norm = pd.DataFrame(np.random.normal(size=(test_size,1)), columns=['x_norm']) \n",
    "x_binom = pd.DataFrame(np.random.binomial(n=1, p=0.7, size=(test_size,1))  , columns=['x_binom'])\n",
    "X_random_test = pd.concat(\n",
    "    [x_norm,x_binom],\n",
    "     axis=1\n",
    ")\n",
    "\n",
    "X_test_noise= pd.concat([\n",
    "    X_test.reset_index(drop=True),\n",
    "    X_random_test.reset_index(drop=True)\n",
    "], axis=1)\n",
    "\n",
    "rf_noise.fit(X_train_noise, y_train)\n",
    "y_pred = rf_noise.predict(X_test_noise)\n",
    "\n",
    "accuracy_score(y_test, y_pred)"
   ]
  },
  {
   "cell_type": "code",
   "execution_count": 307,
   "metadata": {},
   "outputs": [
    {
     "data": {
      "text/plain": [
       "<AxesSubplot:>"
      ]
     },
     "execution_count": 307,
     "metadata": {},
     "output_type": "execute_result"
    },
    {
     "data": {
      "image/png": "[encoded data removed]",
      "text/plain": [
       "<Figure size 432x288 with 1 Axes>"
      ]
     },
     "metadata": {
      "needs_background": "light"
     },
     "output_type": "display_data"
    }
   ],
   "source": [
    "# feature_importances_noise = pd.DataFrame(\n",
    "#     rf_noise.steps[-1][1].feature_importances_,\n",
    "#     index=rf_noise[:-1].get_feature_names_out(),\n",
    "#     columns=['feature_importance']\n",
    "# ).sort_values('feature_importance', ascending=False)\n",
    "# feature_importances_noise.sort_values('feature_importance')[-15:].plot(kind='barh')\n",
    "\n",
    "feature_importances_noise = pd.DataFrame(\n",
    "    np.mean(feature_importances, axis=0),\n",
    "    index=rf_noise[:-1].get_feature_names_out(),\n",
    "    columns=['feature_importance']\n",
    ").sort_values('feature_importance', ascending=False)\n",
    "feature_importances_noise.sort_values('feature_importance')[-15:].plot(kind='barh')\n"
   ]
  },
  {
   "cell_type": "code",
   "execution_count": 304,
   "metadata": {},
   "outputs": [],
   "source": [
    "feature_names = list(rf_noise[:-1].get_feature_names_out())"
   ]
  },
  {
   "cell_type": "code",
   "execution_count": 305,
   "metadata": {},
   "outputs": [
    {
     "data": {
      "text/plain": [
       "[53, 54]"
      ]
     },
     "execution_count": 305,
     "metadata": {},
     "output_type": "execute_result"
    }
   ],
   "source": [
    "random_feature_names = [f for f in feature_names if 'random' in f]\n",
    "random_feature_idx = [feature_names.index(f) for f in feature_names if 'random' in f]\n"
   ]
  },
  {
   "cell_type": "code",
   "execution_count": 308,
   "metadata": {},
   "outputs": [],
   "source": [
    "threshold = feature_importances_noise.loc[random_feature_names,:].values.max()\n",
    "selected_feature_importances = feature_importances_noise[feature_importances_noise['feature_importance']>threshold]"
   ]
  },
  {
   "cell_type": "code",
   "execution_count": 309,
   "metadata": {},
   "outputs": [
    {
     "data": {
      "text/html": [
       "<div>\n",
       "<style scoped>\n",
       "    .dataframe tbody tr th:only-of-type {\n",
       "        vertical-align: middle;\n",
       "    }\n",
       "\n",
       "    .dataframe tbody tr th {\n",
       "        vertical-align: top;\n",
       "    }\n",
       "\n",
       "    .dataframe thead th {\n",
       "        text-align: right;\n",
       "    }\n",
       "</style>\n",
       "<table border=\"1\" class=\"dataframe\">\n",
       "  <thead>\n",
       "    <tr style=\"text-align: right;\">\n",
       "      <th></th>\n",
       "      <th>feature_importance</th>\n",
       "    </tr>\n",
       "  </thead>\n",
       "  <tbody>\n",
       "    <tr>\n",
       "      <th>fu_col__num_features__fnlwgt</th>\n",
       "      <td>0.146456</td>\n",
       "    </tr>\n",
       "    <tr>\n",
       "      <th>fu_random_col__random_features__x_norm</th>\n",
       "      <td>0.145499</td>\n",
       "    </tr>\n",
       "    <tr>\n",
       "      <th>fu_col__num_features__education-num</th>\n",
       "      <td>0.093776</td>\n",
       "    </tr>\n",
       "  </tbody>\n",
       "</table>\n",
       "</div>"
      ],
      "text/plain": [
       "                                        feature_importance\n",
       "fu_col__num_features__fnlwgt                      0.146456\n",
       "fu_random_col__random_features__x_norm            0.145499\n",
       "fu_col__num_features__education-num               0.093776"
      ]
     },
     "execution_count": 309,
     "metadata": {},
     "output_type": "execute_result"
    }
   ],
   "source": [
    "selected_feature_importances"
   ]
  },
  {
   "cell_type": "code",
   "execution_count": 310,
   "metadata": {},
   "outputs": [
    {
     "data": {
      "text/plain": [
       "{'fit_time': array([ 6.97000265,  7.7524631 ,  6.83869815, 12.94024539, 12.17639375]),\n",
       " 'score_time': array([0.37040758, 0.41420579, 0.34041381, 0.76188993, 0.69438338]),\n",
       " 'test_score': array([0.75090992, 0.75261601, 0.75133659, 0.75338414, 0.75304288]),\n",
       " 'train_score': array([0.99988625, 0.99994313, 0.99997156, 0.99985782, 0.99988625])}"
      ]
     },
     "execution_count": 310,
     "metadata": {},
     "output_type": "execute_result"
    }
   ],
   "source": [
    "# X_train_noise\n",
    "selected_features = selected_feature_importances.index.to_list()\n",
    "selected_feature_idx = [feature_names.index(f) for f in selected_features]\n",
    "\n",
    "selected_col_transformer = ColumnTransformer([\n",
    "    ('selected_features', 'passthrough', selected_feature_idx)  \n",
    "])    \n",
    "\n",
    "rf_selected = make_pipeline(\n",
    "    fu_noise,\n",
    "    selected_col_transformer,\n",
    "    RandomForestClassifier()\n",
    ") \n",
    "cross_validate(rf_selected, X_train_noise, y_train, scoring='accuracy', cv=5, return_train_score=True)\n"
   ]
  }
 ],
 "metadata": {
  "kernelspec": {
   "display_name": "Python 3.8.5 ('base')",
   "language": "python",
   "name": "python3"
  },
  "language_info": {
   "codemirror_mode": {
    "name": "ipython",
    "version": 3
   },
   "file_extension": ".py",
   "mimetype": "text/x-python",
   "name": "python",
   "nbconvert_exporter": "python",
   "pygments_lexer": "ipython3",
   "version": "3.8.5"
  },
  "orig_nbformat": 4,
  "vscode": {
   "interpreter": {
    "hash": "40d3a090f54c6569ab1632332b64b2c03c39dcf918b08424e98f38b5ae0af88f"
   }
  }
 },
 "nbformat": 4,
 "nbformat_minor": 2
}
